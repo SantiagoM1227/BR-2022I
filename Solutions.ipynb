{
 "cells": [
  {
   "cell_type": "code",
   "execution_count": 3,
   "id": "addab463",
   "metadata": {},
   "outputs": [
    {
     "name": "stdout",
     "output_type": "stream",
     "text": [
      "Requirement already satisfied: galgebra==0.4.3 in /home/santi/miniconda/lib/python3.9/site-packages (0.4.3)\n",
      "Requirement already satisfied: sympy in /home/santi/miniconda/lib/python3.9/site-packages (from galgebra==0.4.3) (1.7)\n",
      "Requirement already satisfied: mpmath>=0.19 in /home/santi/miniconda/lib/python3.9/site-packages (from sympy->galgebra==0.4.3) (1.2.1)\n",
      "Collecting sympy==1.6\n",
      "  Using cached sympy-1.6-py3-none-any.whl (5.8 MB)\n",
      "Requirement already satisfied: mpmath>=0.19 in /home/santi/miniconda/lib/python3.9/site-packages (from sympy==1.6) (1.2.1)\n",
      "Installing collected packages: sympy\n",
      "  Attempting uninstall: sympy\n",
      "    Found existing installation: sympy 1.7\n",
      "    Uninstalling sympy-1.7:\n",
      "      Successfully uninstalled sympy-1.7\n",
      "Successfully installed sympy-1.6\n"
     ]
    }
   ],
   "source": [
    "!pip install galgebra==0.4.3\n",
    "!pip install sympy==1.6"
   ]
  },
  {
   "cell_type": "code",
   "execution_count": 4,
   "id": "e1d013b3",
   "metadata": {},
   "outputs": [
    {
     "name": "stdout",
     "output_type": "stream",
     "text": [
      "Stored 'X' (list)\n",
      "Stored 'U' (list)\n",
      "Stored 'BYZ' (list)\n",
      "Stored 'BYW' (list)\n",
      "Stored 'BZV' (list)\n",
      "Stored 'BVW' (list)\n"
     ]
    }
   ],
   "source": [
    "import sympy \n",
    "from galgebra.ga import Ga\n",
    "import sympy.matrices.matrices\n",
    "from sympy.solvers.pde import pdsolve\n",
    "from sympy import Function, Eq\n",
    "from sympy.abc import x, y,z,u,v,w\n",
    "\n",
    "x,y,z,u,v,w,K1,K2 = sympy.symbols('x y z u v w K_1 K_2')\n",
    "\n",
    "eq1 = Eq(x*u+y*v+z*w,K1)\n",
    "eq2 = Eq(-(x**2+y**2+z**2)+u**2+v**2+w**2,K2)\n",
    "x_u = sympy.solve([eq1,eq2],x,u)\n",
    "\n",
    "X = [sympy.simplify(x_u[i][0]) for i in range(4)]\n",
    "U = [sympy.simplify(x_u[i][1]) for i in range(4)]\n",
    "\n",
    "yzvw = (y, z, v, w) = sympy.symbols('y z v w', real=True)\n",
    "o4d = Ga('e_y e_z e_v e_w', g=[1, 1, 1, 1], coords=yzvw)\n",
    "\n",
    "import numpy as np\n",
    "\n",
    "ey, ez, ev, ew = o4d.mv()\n",
    "Basis_foliation = [ey, ez, ev, ew]\n",
    "coordinates_foliation = [y, z, v, w]\n",
    "\n",
    "def change_diff(function, coordinates, basis):\n",
    "  Df = [function.diff(i) for i in coordinates]\n",
    "  result = np.dot(Df, basis)\n",
    "  return result\n",
    "\n",
    "\n",
    "Ex = [change_diff(X[i],coordinates_foliation, Basis_foliation) for i in range(4)]\n",
    "Eu = [change_diff(U[i],coordinates_foliation, Basis_foliation) for i in range(4)]\n",
    "\n",
    "Bivector = [X[i]*(ey^ez)+y*(ez^Ex[i])+z*(Ex[i]^ey)+w*(Ex[i]^ev)-v*(Ex[i]^ew)-w*(ey^Eu[i])+U[i]*(ey^ew)+v*(ez^Eu[i])-U[i]*(ez^ev)-X[i]*(ev^ew)-y*(ew^Eu[i])-z*(Eu[i]^ev) for i in range(4)]\n",
    "\n",
    "BYZ = [Bivector[i].blade_coefs([ey^ez]) for i in range(4)]\n",
    "BYW = [Bivector[i].blade_coefs([ey^ew]) for i in range(4)]\n",
    "BZV = [Bivector[i].blade_coefs([ez^ev]) for i in range(4)]\n",
    "BVW = [Bivector[i].blade_coefs([ev^ew]) for i in range(4)]\n",
    "%store X\n",
    "%store U\n",
    "%store BYZ\n",
    "%store BYW\n",
    "%store BZV\n",
    "%store BVW\n"
   ]
  },
  {
   "cell_type": "code",
   "execution_count": 5,
   "id": "dd4c5c89",
   "metadata": {},
   "outputs": [
    {
     "name": "stdout",
     "output_type": "stream",
     "text": [
      "Stored 'X2' (list)\n",
      "Stored 'U2' (list)\n",
      "Stored 'BYZ2' (list)\n",
      "Stored 'BYW2' (list)\n",
      "Stored 'BZV2' (list)\n",
      "Stored 'BVW2' (list)\n"
     ]
    }
   ],
   "source": [
    "import sympy \n",
    "from galgebra.ga import Ga\n",
    "import sympy.matrices.matrices\n",
    "from sympy.solvers.pde import pdsolve\n",
    "from sympy import Function, Eq\n",
    "from sympy.abc import x, y,z,u,v,w\n",
    "\n",
    "x,y,z,u,v,w,K1,K2 = sympy.symbols('x y z u v w K_1 K_2')\n",
    "\n",
    "eq1 = Eq(x*u+y*v+z*w,K1)\n",
    "eq2 = Eq((x**2+y**2+z**2)+u**2+v**2+w**2,K2)\n",
    "x_u = sympy.solve([eq1,eq2],x,u)\n",
    "\n",
    "X2 = [sympy.simplify(x_u[i][0]) for i in range(4)]\n",
    "U2 = [sympy.simplify(x_u[i][1]) for i in range(4)]\n",
    "\n",
    "yzvw = (y, z, v, w) = sympy.symbols('y z v w', real=True)\n",
    "o4d = Ga('e_y e_z e_v e_w', g=[1, 1, 1, 1], coords=yzvw)\n",
    "\n",
    "import numpy as np\n",
    "\n",
    "ey, ez, ev, ew = o4d.mv()\n",
    "Basis_foliation = [ey, ez, ev, ew]\n",
    "coordinates_foliation = [y, z, v, w]\n",
    "\n",
    "def change_diff(function, coordinates, basis):\n",
    "  Df = [function.diff(i) for i in coordinates]\n",
    "  result = np.dot(Df, basis)\n",
    "  return result\n",
    "\n",
    "\n",
    "Ex2 = [change_diff(X2[i],coordinates_foliation, Basis_foliation) for i in range(4)]\n",
    "Eu2 = [change_diff(U2[i],coordinates_foliation, Basis_foliation) for i in range(4)]\n",
    "\n",
    "Bivector2 = [X2[i]*(ey^ez)+y*(ez^Ex2[i])+z*(Ex2[i]^ey)+w*(Ex2[i]^ev)-v*(Ex2[i]^ew)-w*(ey^Eu2[i])+U2[i]*(ey^ew)+v*(ez^Eu2[i])-U2[i]*(ez^ev)-X2[i]*(ev^ew)-y*(ew^Eu2[i])-z*(Eu2[i]^ev) for i in range(4)]\n",
    "\n",
    "BYZ2 = [Bivector2[i].blade_coefs([ey^ez]) for i in range(4)]\n",
    "BYW2 = [Bivector2[i].blade_coefs([ey^ew]) for i in range(4)]\n",
    "BZV2 = [Bivector2[i].blade_coefs([ez^ev]) for i in range(4)]\n",
    "BVW2 = [Bivector2[i].blade_coefs([ev^ew]) for i in range(4)]\n",
    "%store X2\n",
    "%store U2\n",
    "%store BYZ2\n",
    "%store BYW2\n",
    "%store BZV2\n",
    "%store BVW2\n"
   ]
  }
 ],
 "metadata": {
  "kernelspec": {
   "display_name": "Python 3 (ipykernel)",
   "language": "python",
   "name": "python3"
  },
  "language_info": {
   "codemirror_mode": {
    "name": "ipython",
    "version": 3
   },
   "file_extension": ".py",
   "mimetype": "text/x-python",
   "name": "python",
   "nbconvert_exporter": "python",
   "pygments_lexer": "ipython3",
   "version": "3.9.12"
  }
 },
 "nbformat": 4,
 "nbformat_minor": 5
}
